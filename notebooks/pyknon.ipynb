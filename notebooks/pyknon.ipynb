{
 "cells": [
  {
   "cell_type": "markdown",
   "metadata": {},
   "source": [
    "# PyKNon\n",
    "\n",
    "Simple Python library to generate music in a hacker friendly way.\n",
    "\n",
    "https://github.com/kroger/pyknon"
   ]
  },
  {
   "cell_type": "code",
   "execution_count": 1,
   "metadata": {
    "collapsed": true
   },
   "outputs": [],
   "source": [
    "from pyknon.genmidi import Midi\n",
    "from pyknon.music import NoteSeq"
   ]
  },
  {
   "cell_type": "code",
   "execution_count": 2,
   "metadata": {
    "collapsed": true
   },
   "outputs": [],
   "source": [
    "notes1 = NoteSeq(\"D4 F#8 A Bb4\")\n",
    "midi = Midi(1, tempo=90)\n",
    "midi.seq_notes(notes1, track=0)\n",
    "midi.write(\"demo.mid\")"
   ]
  },
  {
   "cell_type": "code",
   "execution_count": 3,
   "metadata": {
    "collapsed": false
   },
   "outputs": [
    {
     "name": "stdout",
     "output_type": "stream",
     "text": [
      "Check URL type=7\n",
      "Check URL type=2\n",
      "Check URL type=1\n",
      "open url (type=1, name=/usr/local/Cellar/timidity/2.14.0/share/timidity/timidity.cfg)\n",
      "url_file_open(/usr/local/Cellar/timidity/2.14.0/share/timidity/timidity.cfg)\n",
      "mmap - success. size=4625\n",
      "Check URL type=7\n",
      "Check URL type=2\n",
      "Check URL type=1\n",
      "open url (type=1, name=~/.timidity.cfg)\n",
      "url_file_open(~/.timidity.cfg)\n",
      "Playing demo.mid\n",
      "MIDI file: demo.mid\n",
      "Check URL type=7\n",
      "Check URL type=2\n",
      "Check URL type=1\n",
      "open url (type=1, name=demo.mid)\n",
      "url_file_open(demo.mid)\n",
      "mmap - success. size=81\n",
      "Format: 1  Tracks: 1  Divisions: 128\n",
      "Sequence: Track 0\n",
      "Check URL type=7\n",
      "Check URL type=2\n",
      "Check URL type=1\n",
      "open url (type=1, name=Tone_000/000_Acoustic_Grand_Piano.pat)\n",
      "url_file_open(Tone_000/000_Acoustic_Grand_Piano.pat)\n",
      "Check URL type=7\n",
      "Check URL type=2\n",
      "Check URL type=1\n",
      "open url (type=1, name=/usr/local/Cellar/timidity/2.14.0/share/timidity/Tone_000/000_Acoustic_Grand_Piano.pat)\n",
      "url_file_open(/usr/local/Cellar/timidity/2.14.0/share/timidity/Tone_000/000_Acoustic_Grand_Piano.pat)\n",
      "mmap - success. size=1336363\n",
      "Playing time: ~6 seconds\n",
      "Notes cut: 0\n",
      "Notes lost totally: 0\n"
     ]
    }
   ],
   "source": [
    "!timidity demo.mid"
   ]
  },
  {
   "cell_type": "code",
   "execution_count": null,
   "metadata": {
    "collapsed": true
   },
   "outputs": [],
   "source": []
  }
 ],
 "metadata": {
  "kernelspec": {
   "display_name": "Python 3",
   "language": "python",
   "name": "python3"
  },
  "language_info": {
   "codemirror_mode": {
    "name": "ipython",
    "version": 3
   },
   "file_extension": ".py",
   "mimetype": "text/x-python",
   "name": "python",
   "nbconvert_exporter": "python",
   "pygments_lexer": "ipython3",
   "version": "3.4.3"
  }
 },
 "nbformat": 4,
 "nbformat_minor": 1
}
