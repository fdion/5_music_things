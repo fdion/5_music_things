{
 "cells": [
  {
   "cell_type": "markdown",
   "metadata": {},
   "source": [
    "# 5 in 5\n",
    "\n",
    "I like to cover 5 things in 5 minutes for lightning talks. Or one thing. At the local Python user group, sometimes questions or other circumstances turn these 5 in 5 more into a 5 in 10-15...\n",
    "\n",
    "# 5 Music Things\n",
    "\n",
    "Eventually, after a year or two, I'll revisit a subject. I recently noticed that I had not talked about music related things in almost two and a half years, so I did 5 quick Jupyter notebooks and presented that. Interestingly enough, none of these 5 things were covered back then. This repo includes edited versions of the notebooks, based on the interactions at the meeting during my presentation."
   ]
  },
  {
   "cell_type": "markdown",
   "metadata": {},
   "source": [
    "Requirements: All require the following\n",
    "\n",
    "```shell\n",
    "pip install jupyter\n",
    "```\n",
    "\n",
    "Alphabetically...\n",
    "\n",
    "# 1 - Audio\n",
    "\n",
    "[Notebook](Audio.ipynb)\n",
    "\n",
    "# 2 - libROSA\n",
    "\n",
    "Here we will need to *pip install matplotlib* and *numpy*, and of course *librosa*.\n",
    "\n",
    "[Notebook](librosa.ipynb)\n",
    "\n",
    "# 3 - music21\n",
    "\n",
    "*pip install music21*\n",
    "\n",
    "You'll need some external programs: [Lilypond](http://lilypond.org/) and [Musescore](https://musescore.org/)\n",
    "\n",
    "You also need launch scripts for each of them. On a mac, use the provided launch scripts in the mac/ folder of this repo. Make sure you *chmod a+x* them. Change the path in the notebook to reflect your own user path.\n",
    "\n",
    "[Notebook](music21.ipynb)\n",
    "\n",
    "\n",
    "# 4 - psonic\n",
    "\n",
    "*pip install python-sonic*\n",
    "\n",
    "You'll need one external program: [Sonic Pi](http://sonic-pi.net/) and to start it before running through the notebook.\n",
    "\n",
    "[Notebook](psonic.ipynb)\n",
    "\n",
    "# 5 - pyKnon\n",
    "\n",
    "*pip install pyknon*\n",
    "\n",
    "You'll need one external program: [timidity](https://sourceforge.net/projects/timidity/) - easily installed in Linux with *apt-get install timidity*, or on a Mac with *brew install timidity*\n",
    "\n",
    "This was mostly an excuse to demo that external command line tools like *timidity* or *sox* can be used here.\n",
    "\n",
    "[Notebook](pyknon.ipynb)\n"
   ]
  },
  {
   "cell_type": "markdown",
   "metadata": {
    "collapsed": true
   },
   "source": [
    "Have fun!\n",
    "\n",
    "[@f_dion](http://twitter.com/f_dion) - francois*(dot)*dion*(at)*gmail*(dot)*com"
   ]
  },
  {
   "cell_type": "code",
   "execution_count": null,
   "metadata": {
    "collapsed": true
   },
   "outputs": [],
   "source": []
  }
 ],
 "metadata": {
  "kernelspec": {
   "display_name": "Python 3",
   "language": "python",
   "name": "python3"
  },
  "language_info": {
   "codemirror_mode": {
    "name": "ipython",
    "version": 3
   },
   "file_extension": ".py",
   "mimetype": "text/x-python",
   "name": "python",
   "nbconvert_exporter": "python",
   "pygments_lexer": "ipython3",
   "version": "3.4.3"
  }
 },
 "nbformat": 4,
 "nbformat_minor": 1
}
